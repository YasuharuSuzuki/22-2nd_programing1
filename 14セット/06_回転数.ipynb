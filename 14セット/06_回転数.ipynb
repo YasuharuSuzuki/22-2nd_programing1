{
 "cells": [
  {
   "cell_type": "markdown",
   "metadata": {},
   "source": [
    "<a href=\"https://colab.research.google.com/github/YasuharuSuzuki/22-2nd_programing1/blob/main/14%E3%82%BB%E3%83%83%E3%83%88/06_%E5%9B%9E%E8%BB%A2%E6%95%B0.ipynb\" target=\"_parent\"><img src=\"https://colab.research.google.com/assets/colab-badge.svg\" alt=\"Open In Colab\"/></a>"
   ]
  },
  {
   "cell_type": "markdown",
   "metadata": {},
   "source": [
    "#### 練習プログラム7\n",
    "# 回転数 (3点)"
   ]
  },
  {
   "cell_type": "markdown",
   "metadata": {},
   "source": [
    "フィギュアスケートでは４回転までの回転数と６種類のジャンプをあわせて演技構成を表記します。  \n",
    "例えば\"3T\"は、3回転のトウループであることを示しています。  \n",
    "\n",
    "６種類のジャンプそれぞれの表記は以下のように決まっています。  \n",
    "- アクセル(A)\n",
    "- ルッツ(Lz)\n",
    "- フリップ(F)\n",
    "- ループ(Lo)\n",
    "- サルコウ(S)\n",
    "- トウループ(T)\n",
    "\n",
    "また、コンビネーションジャンプという２つまたは３つ連続で飛ぶジャンプがあり、各ジャンプをプラス記号を組み合わせて表記します。  \n",
    "例えば、\"4T+3T\"は4回転トウループと3回転トウループのコンビネーションジャンプとなります。  \n",
    "３連続のコンビネーションジャンプではオイラージャンプというジャンプが入ることがあり、以下のように表記します  \n",
    "- オイラー(Eu)  \n",
    "もともとループジャンプの一種ですが、国際スケート連盟の表記で上記のように別記することになっています。  \n",
    "  \n",
    "2023年現在、フリー演技のジャンプは７つまでと決まっています。  \n",
    "各ジャンプの文字列が上記ルールで与えられる時、フリー演技の回転数の合計値を求めて出力してください。  \n",
    "ただしアクセルジャンプのみ前向きにジャンプして後ろ向きに着地するため、回転数は+0.5として計算してください。  "
   ]
  },
  {
   "cell_type": "markdown",
   "metadata": {},
   "source": [
    "### 制約\n",
    "$\n",
    "回転数は正の実数（小数部は小数点第一位までとし、第二位以下は切り捨てとする） \\\\\n",
    "$"
   ]
  },
  {
   "cell_type": "markdown",
   "metadata": {},
   "source": [
    "### 入力\n",
    "入力は以下の形式で標準入力から与えられます\n",
    "\n",
    "---\n",
    "$\n",
    "S_1  \\\\\n",
    "S_2  \\\\\n",
    "  :  \\\\\n",
    "S_7  \\\\\n",
    "$\n",
    "\n",
    "---\n",
    "\n",
    "ジャンプの文字列を７つ受け取ります。"
   ]
  },
  {
   "cell_type": "markdown",
   "metadata": {},
   "source": [
    "### 出力\n",
    "\n",
    "---\n",
    "$\n",
    "R  \\\\\n",
    "$\n",
    "\n",
    "---\n",
    "求めた回転数を出力してください。"
   ]
  },
  {
   "cell_type": "markdown",
   "metadata": {},
   "source": [
    "### 入力例 1\n",
    "\n",
    "---\n",
    "$\n",
    "4S  \\\\\n",
    "4T+3T  \\\\\n",
    "4T  \\\\\n",
    "3A+1Eu+3S  \\\\\n",
    "3A \\\\\n",
    "3F+2A \\\\\n",
    "3Lz \\\\\n",
    "$\n",
    "\n",
    "---\n",
    "\n",
    "#### 出力例 1\n",
    "\n",
    "---\n",
    "$\n",
    "34.5 \\\\\n",
    "$\n",
    "\n",
    "---"
   ]
  },
  {
   "cell_type": "markdown",
   "metadata": {},
   "source": [
    "### 入力例 2\n",
    "\n",
    "---\n",
    "$\n",
    "4Lz  \\\\\n",
    "4T+3T  \\\\\n",
    "3A+1Eu+3S  \\\\\n",
    "4T  \\\\\n",
    "3A \\\\\n",
    "3F+2T \\\\\n",
    "3Lo \\\\\n",
    "$\n",
    "\n",
    "---\n",
    "\n",
    "#### 出力例 2\n",
    "\n",
    "---\n",
    "$\n",
    "34.0 \\\\\n",
    "$\n",
    "\n",
    "---"
   ]
  },
  {
   "cell_type": "markdown",
   "metadata": {},
   "source": [
    "### 入力例 3\n",
    "\n",
    "---\n",
    "$\n",
    "4A  \\\\\n",
    "4S  \\\\\n",
    "3A+3Lo  \\\\\n",
    "3F  \\\\\n",
    "4T+3T \\\\\n",
    "4T+1Eu+3S \\\\\n",
    "3A \\\\\n",
    "$\n",
    "\n",
    "---\n",
    "\n",
    "#### 出力例 3\n",
    "\n",
    "---\n",
    "$\n",
    "36.5 \\\\\n",
    "$\n",
    "\n",
    "---"
   ]
  },
  {
   "cell_type": "markdown",
   "metadata": {},
   "source": [
    "### 入力例 4\n",
    "\n",
    "---\n",
    "$\n",
    "4F+3T  \\\\\n",
    "4F  \\\\\n",
    "4S  \\\\\n",
    "4Lz  \\\\\n",
    "4T+1Eu+3F \\\\\n",
    "3A \\\\\n",
    "3Lz+3T \\\\\n",
    "$\n",
    "\n",
    "---\n",
    "\n",
    "#### 出力例 3\n",
    "\n",
    "---\n",
    "$\n",
    "36.5 \\\\\n",
    "$\n",
    "\n",
    "---"
   ]
  },
  {
   "cell_type": "markdown",
   "metadata": {},
   "source": [
    "### ここ↓にPythonコードを記述してください"
   ]
  },
  {
   "cell_type": "code",
   "execution_count": 6,
   "metadata": {},
   "outputs": [
    {
     "name": "stdout",
     "output_type": "stream",
     "text": [
      "4F+3T\n",
      "4F\n",
      "4S\n",
      "4Lz\n",
      "4T+1Eu+3F\n",
      "3A\n",
      "3Lz+3T\n",
      "36.5\n"
     ]
    }
   ],
   "source": [
    "# ここ↓にPythonコードを記述してください\n",
    "\n",
    "\n",
    "\n"
   ]
  },
  {
   "cell_type": "code",
   "execution_count": null,
   "metadata": {},
   "outputs": [],
   "source": []
  },
  {
   "cell_type": "code",
   "execution_count": null,
   "metadata": {},
   "outputs": [],
   "source": []
  },
  {
   "cell_type": "code",
   "execution_count": null,
   "metadata": {},
   "outputs": [],
   "source": []
  },
  {
   "cell_type": "code",
   "execution_count": null,
   "metadata": {},
   "outputs": [],
   "source": []
  },
  {
   "cell_type": "code",
   "execution_count": null,
   "metadata": {},
   "outputs": [],
   "source": []
  },
  {
   "cell_type": "code",
   "execution_count": null,
   "metadata": {},
   "outputs": [],
   "source": []
  }
 ],
 "metadata": {
  "colab": {
   "authorship_tag": "ABX9TyMOtB7OiTVLb+yu2KoVwjto",
   "include_colab_link": true,
   "provenance": []
  },
  "kernelspec": {
   "display_name": "Python 3 (ipykernel)",
   "language": "python",
   "name": "python3"
  },
  "language_info": {
   "codemirror_mode": {
    "name": "ipython",
    "version": 3
   },
   "file_extension": ".py",
   "mimetype": "text/x-python",
   "name": "python",
   "nbconvert_exporter": "python",
   "pygments_lexer": "ipython3",
   "version": "3.9.15"
  }
 },
 "nbformat": 4,
 "nbformat_minor": 1
}
