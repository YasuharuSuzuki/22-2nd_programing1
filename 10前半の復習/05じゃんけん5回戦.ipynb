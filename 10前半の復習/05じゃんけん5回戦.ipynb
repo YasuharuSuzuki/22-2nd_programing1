{
 "cells": [
  {
   "cell_type": "markdown",
   "metadata": {
    "colab_type": "text",
    "id": "view-in-github"
   },
   "source": [
    "<a href=\"https://colab.research.google.com/github/YasuharuSuzuki/22-2nd_programing1/blob/main/10%E5%89%8D%E5%8D%8A%E3%81%AE%E5%BE%A9%E7%BF%92/05%E3%81%98%E3%82%83%E3%82%93%E3%81%91%E3%82%935%E5%9B%9E%E6%88%A6.ipynb\" target=\"_parent\"><img src=\"https://colab.research.google.com/assets/colab-badge.svg\" alt=\"Open In Colab\"/></a>"
   ]
  },
  {
   "cell_type": "markdown",
   "metadata": {},
   "source": [
    "# じゃんけん5回戦 (2点)\n",
    "- AさんとBさんが５回じゃんけんをします。\n",
    "- じゃんけんでグーを出したときには'G'、チョキを出したときには'C'、パーを出したときには'P'の文字がそれぞれ与えられます。\n",
    "- Aさんが勝ったときにはAさんの勝利数をカウントし、Bさんが勝ったときにはBさんの勝利数をカウントします。\n",
    "- あいこのときにはどちらの勝利数もカウントしません。\n",
    "- ５回戦ったAさんとBさんの勝利数を出力してください。"
   ]
  },
  {
   "cell_type": "markdown",
   "metadata": {},
   "source": [
    "### 制約\n",
    "- $ S_{ij} $は``G``、``C``、``P``のいずれか\n",
    "- $ | S | = 1 $"
   ]
  },
  {
   "cell_type": "markdown",
   "metadata": {},
   "source": [
    "### 入力\n",
    "入力は以下の形式で標準入力から与えられます\n",
    "\n",
    "---\n",
    "$ S_{A1} \\quad S_{B1} $  \n",
    "$ S_{A2} \\quad S_{B2} $  \n",
    "$ S_{A3} \\quad S_{B3} $  \n",
    "$ S_{A4} \\quad S_{B4} $  \n",
    "$ S_{A5} \\quad S_{B5} $  \n",
    "\n",
    "---\n",
    "\n",
    "Aさんの手を$ S_{Ai}$ Bさんの手を$ S_{Bi} $で受け取ります"
   ]
  },
  {
   "cell_type": "markdown",
   "metadata": {},
   "source": [
    "### 出力\n",
    "$ Aさんの勝利数 \\quad Bさんの勝利数  $"
   ]
  },
  {
   "cell_type": "markdown",
   "metadata": {},
   "source": [
    "### 入力例 1\n",
    "\n",
    "| 入力 | G C <br> C G <br> P P <br> P C <br> C G <br> |\n",
    "| :--- | :--- |\n",
    "| 出力 | 1 3 |"
   ]
  },
  {
   "cell_type": "markdown",
   "metadata": {},
   "source": [
    "- Aさんの1勝、Bさんの3勝のため、1 3 と出力します"
   ]
  },
  {
   "cell_type": "markdown",
   "metadata": {},
   "source": [
    "### ここ↓にPythonコードを記述してください"
   ]
  },
  {
   "cell_type": "code",
   "execution_count": 1,
   "metadata": {},
   "outputs": [
    {
     "name": "stdout",
     "output_type": "stream",
     "text": [
      "G C\n",
      "C G\n",
      "P P\n",
      "P C\n",
      "C G\n",
      "1 3\n"
     ]
    }
   ],
   "source": []
  },
  {
   "cell_type": "code",
   "execution_count": null,
   "metadata": {},
   "outputs": [],
   "source": []
  }
 ],
 "metadata": {
  "colab": {
   "authorship_tag": "ABX9TyMOtB7OiTVLb+yu2KoVwjto",
   "include_colab_link": true,
   "provenance": []
  },
  "kernelspec": {
   "display_name": "Python 3 (ipykernel)",
   "language": "python",
   "name": "python3"
  },
  "language_info": {
   "codemirror_mode": {
    "name": "ipython",
    "version": 3
   },
   "file_extension": ".py",
   "mimetype": "text/x-python",
   "name": "python",
   "nbconvert_exporter": "python",
   "pygments_lexer": "ipython3",
   "version": "3.9.13"
  }
 },
 "nbformat": 4,
 "nbformat_minor": 1
}
