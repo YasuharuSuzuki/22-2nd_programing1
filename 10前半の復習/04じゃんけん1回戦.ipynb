{
 "cells": [
  {
   "cell_type": "markdown",
   "metadata": {
    "colab_type": "text",
    "id": "view-in-github"
   },
   "source": [
    "<a href=\"https://colab.research.google.com/github/YasuharuSuzuki/22-2nd_programing1/blob/main/10%E5%89%8D%E5%8D%8A%E3%81%AE%E5%BE%A9%E7%BF%92/04%E3%81%98%E3%82%83%E3%82%93%E3%81%91%E3%82%931%E5%9B%9E%E6%88%A6.ipynb\" target=\"_parent\"><img src=\"https://colab.research.google.com/assets/colab-badge.svg\" alt=\"Open In Colab\"/></a>"
   ]
  },
  {
   "cell_type": "markdown",
   "metadata": {},
   "source": [
    "# じゃんけん１回戦 (2点)\n",
    "- AさんとBさんがじゃんけんをします。\n",
    "- じゃんけんでグーを出したときには'G'、チョキを出したときには'C'、パーを出したときには'P'の文字がそれぞれ与えられます。\n",
    "- Aさんが勝ったときには\"Aさんの勝ち\"、Bさんが勝ったときには\"Bさんの勝ち\"、あいこのときには\"あいこ\"と表示してください。"
   ]
  },
  {
   "cell_type": "markdown",
   "metadata": {},
   "source": [
    "### 制約\n",
    "- $ S_i $は``G``、``C``、``P``のいずれか\n",
    "- $ | S | = 1 $"
   ]
  },
  {
   "cell_type": "markdown",
   "metadata": {},
   "source": [
    "### 入力\n",
    "入力は以下の形式で標準入力から与えられます\n",
    "\n",
    "---\n",
    "$ S_A \\quad S_B $\n",
    "\n",
    "---\n",
    "\n",
    "AさんとBさんそれぞれが出したじゃんけんの値 $ S_A, S_B $ を受け取ります"
   ]
  },
  {
   "cell_type": "markdown",
   "metadata": {},
   "source": [
    "### 出力\n",
    "\n",
    "\"Aさんの勝ち\"、\"Bさんの勝ち\"、または\"あいこ\"のいずれかを出力してください。"
   ]
  },
  {
   "cell_type": "markdown",
   "metadata": {},
   "source": [
    "### 入力例 1\n",
    "\n",
    "| 入力 | G C |\n",
    "| :--- | :--- |\n",
    "| 出力 | Aさんの勝ち |"
   ]
  },
  {
   "cell_type": "markdown",
   "metadata": {},
   "source": [
    "- グーとチョキではグーが強いので\"Aさんの勝ち\"と表示します。"
   ]
  },
  {
   "cell_type": "markdown",
   "metadata": {},
   "source": [
    "### 入力例 2\n",
    "\n",
    "| 入力 | P P |\n",
    "| :--- | :--- |\n",
    "| 出力 | あいこ |"
   ]
  },
  {
   "cell_type": "markdown",
   "metadata": {},
   "source": [
    "- 両方パーを出したときには\"あいこ\"と表示してください"
   ]
  },
  {
   "cell_type": "markdown",
   "metadata": {},
   "source": [
    "### ここ↓にPythonコードを記述してください"
   ]
  },
  {
   "cell_type": "code",
   "execution_count": 14,
   "metadata": {},
   "outputs": [
    {
     "name": "stdout",
     "output_type": "stream",
     "text": [
      "G C\n",
      "Aさんの勝ち\n"
     ]
    }
   ],
   "source": []
  },
  {
   "cell_type": "code",
   "execution_count": null,
   "metadata": {},
   "outputs": [],
   "source": []
  }
 ],
 "metadata": {
  "colab": {
   "authorship_tag": "ABX9TyMOtB7OiTVLb+yu2KoVwjto",
   "include_colab_link": true,
   "provenance": []
  },
  "kernelspec": {
   "display_name": "Python 3 (ipykernel)",
   "language": "python",
   "name": "python3"
  },
  "language_info": {
   "codemirror_mode": {
    "name": "ipython",
    "version": 3
   },
   "file_extension": ".py",
   "mimetype": "text/x-python",
   "name": "python",
   "nbconvert_exporter": "python",
   "pygments_lexer": "ipython3",
   "version": "3.9.13"
  }
 },
 "nbformat": 4,
 "nbformat_minor": 1
}
