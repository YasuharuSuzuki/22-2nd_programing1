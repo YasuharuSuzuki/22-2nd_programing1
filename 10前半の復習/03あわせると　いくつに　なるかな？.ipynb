{
 "cells": [
  {
   "cell_type": "markdown",
   "metadata": {
    "colab_type": "text",
    "id": "view-in-github"
   },
   "source": [
    "<a href=\"https://colab.research.google.com/github/YasuharuSuzuki/22-2nd_programing1/blob/main/10%E5%89%8D%E5%8D%8A%E3%81%AE%E5%BE%A9%E7%BF%92/03%E3%81%82%E3%82%8F%E3%81%9B%E3%82%8B%E3%81%A8%E3%80%80%E3%81%84%E3%81%8F%E3%81%A4%E3%81%AB%E3%80%80%E3%81%AA%E3%82%8B%E3%81%8B%E3%81%AA%EF%BC%9F.ipynb\" target=\"_parent\"><img src=\"https://colab.research.google.com/assets/colab-badge.svg\" alt=\"Open In Colab\"/></a>"
   ]
  },
  {
   "cell_type": "markdown",
   "metadata": {},
   "source": [
    "# あわせると　いくつに　なるかな？ (2点)\n",
    "- ゆるるくんは小学生向けの問題を作成しています。\n",
    "- 和が10以内の2つの数を足した結果を自動的に求めるプログラムを作成し、小学生に見せたいと思っています。\n",
    "- ２つの値のうち、最初の値は3と決めました。\n",
    "- もう一つの値 $ B $ は1〜6の値が入力されます。\n",
    "- $3+ B $ の結果を$ R $とし、「$3+B=R$」「こたえは $ R $ です」と２行で表示してください。"
   ]
  },
  {
   "cell_type": "markdown",
   "metadata": {},
   "source": [
    "### 制約\n",
    "$$\n",
    "1 <= B <= 6\n",
    "$$"
   ]
  },
  {
   "cell_type": "markdown",
   "metadata": {},
   "source": [
    "### 入力\n",
    "入力は以下の形式で標準入力から与えられます\n",
    "\n",
    "---\n",
    "$ B $\n",
    "\n",
    "---\n",
    "\n",
    "足す値 $ B $ を受け取ります"
   ]
  },
  {
   "cell_type": "markdown",
   "metadata": {},
   "source": [
    "### 出力\n",
    "\n",
    "---\n",
    "$ 3 + B = R $\n",
    "こたえは $ R $ です\n",
    "\n",
    "---\n",
    "\n",
    "3と足し算した結果を出力してください。"
   ]
  },
  {
   "cell_type": "markdown",
   "metadata": {},
   "source": [
    "### 入力例 1\n",
    "\n",
    "| 入力 | 2 |\n",
    "| :--- | :--- |\n",
    "| 出力 | $ 3 + 2 = 5 $ <br> こたえは $ 5 $ です |"
   ]
  },
  {
   "cell_type": "markdown",
   "metadata": {},
   "source": [
    "- 式とこたえを出力してください。"
   ]
  },
  {
   "cell_type": "markdown",
   "metadata": {},
   "source": [
    "### ここ↓にPythonコードを記述してください"
   ]
  },
  {
   "cell_type": "code",
   "execution_count": 1,
   "metadata": {},
   "outputs": [
    {
     "name": "stdout",
     "output_type": "stream",
     "text": [
      "2\n",
      "3+2=5\n",
      "こたえは 5 です\n"
     ]
    }
   ],
   "source": []
  },
  {
   "cell_type": "code",
   "execution_count": null,
   "metadata": {},
   "outputs": [],
   "source": []
  }
 ],
 "metadata": {
  "colab": {
   "authorship_tag": "ABX9TyMOtB7OiTVLb+yu2KoVwjto",
   "include_colab_link": true,
   "provenance": []
  },
  "kernelspec": {
   "display_name": "Python 3 (ipykernel)",
   "language": "python",
   "name": "python3"
  },
  "language_info": {
   "codemirror_mode": {
    "name": "ipython",
    "version": 3
   },
   "file_extension": ".py",
   "mimetype": "text/x-python",
   "name": "python",
   "nbconvert_exporter": "python",
   "pygments_lexer": "ipython3",
   "version": "3.9.13"
  }
 },
 "nbformat": 4,
 "nbformat_minor": 1
}
