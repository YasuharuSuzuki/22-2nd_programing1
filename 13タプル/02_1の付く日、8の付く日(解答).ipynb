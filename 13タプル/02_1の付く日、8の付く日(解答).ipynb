{
 "cells": [
  {
   "cell_type": "markdown",
   "metadata": {},
   "source": [
    "<a href=\"https://colab.research.google.com/github/YasuharuSuzuki/22-2nd_programing1/blob/main/13%E3%82%BF%E3%83%97%E3%83%AB/02_1%E3%81%AE%E4%BB%98%E3%81%8F%E6%97%A5%E3%80%818%E3%81%AE%E4%BB%98%E3%81%8F%E6%97%A5%28%E8%A7%A3%E7%AD%94%29.ipynb\" target=\"_parent\"><img src=\"https://colab.research.google.com/assets/colab-badge.svg\" alt=\"Open In Colab\"/></a>"
   ]
  },
  {
   "cell_type": "markdown",
   "metadata": {},
   "source": [
    "#### 練習プログラム3\n",
    "# 1の付く日、8の付く日 (2点)"
   ]
  },
  {
   "cell_type": "markdown",
   "metadata": {},
   "source": [
    "- とあるスーパーでは、日付の1桁目が1の日は「1番売りの日」として10%割引きされます\n",
    "- また1桁目が8の日は「ハッピーデー」として8%割引されます\n",
    "- ゆるるくんがスーパーに行った日の割引き率を出力してください\n",
    "- 日付が月と日で入力されます。入力は$ M \\quad D$ で与えられ、Mが月、Dが日になります。"
   ]
  },
  {
   "cell_type": "markdown",
   "metadata": {},
   "source": [
    "### 制約\n",
    "$\n",
    "1 \\leq M \\leq 12  \\\\\n",
    "1 \\leq D \\leq 31\n",
    "$"
   ]
  },
  {
   "cell_type": "markdown",
   "metadata": {},
   "source": [
    "### 入力\n",
    "入力は以下の形式で標準入力から与えられます\n",
    "\n",
    "---\n",
    "$ M \\quad D $\n",
    "\n",
    "---"
   ]
  },
  {
   "cell_type": "markdown",
   "metadata": {},
   "source": [
    "### 出力\n",
    "\n",
    "---\n",
    "割引率\n",
    "\n",
    "---\n",
    "割引率を％で出力してください。"
   ]
  },
  {
   "cell_type": "markdown",
   "metadata": {},
   "source": [
    "### 入力例 1\n",
    "\n",
    "| 入力例1 | 12 21 |\n",
    "| :--- | :--- |\n",
    "| 出力例1 | 10 |\n",
    "\n",
    "12月21日は日付の1桁目が1のため「1番売りの日」として10%割引きされます"
   ]
  },
  {
   "cell_type": "markdown",
   "metadata": {},
   "source": [
    "### 入力例 2\n",
    "\n",
    "| 入力例2 | 1 7 |\n",
    "| :--- | :--- |\n",
    "| 出力例2 | 0 |\n",
    "\n",
    "1月7日は1桁目が1でも8でもないため割引き率はゼロです"
   ]
  },
  {
   "cell_type": "markdown",
   "metadata": {},
   "source": [
    "### 入力例 3\n",
    "\n",
    "| 入力例3 | 5 8 |\n",
    "| :--- | :--- |\n",
    "| 出力例3 | 8 |\n",
    "\n",
    "5月8日は1桁目が18のないため割引き率は8%です"
   ]
  },
  {
   "cell_type": "code",
   "execution_count": 5,
   "metadata": {},
   "outputs": [
    {
     "name": "stdout",
     "output_type": "stream",
     "text": [
      "5 8\n",
      "8\n"
     ]
    }
   ],
   "source": [
    "m, d = map(int,input().split())\n",
    "if (d%10) == 8:\n",
    "    print(8)\n",
    "elif (d%10) == 1:\n",
    "    print(10)\n",
    "else:\n",
    "    print(0)"
   ]
  },
  {
   "cell_type": "code",
   "execution_count": null,
   "metadata": {},
   "outputs": [],
   "source": []
  },
  {
   "cell_type": "code",
   "execution_count": null,
   "metadata": {},
   "outputs": [],
   "source": []
  },
  {
   "cell_type": "code",
   "execution_count": null,
   "metadata": {},
   "outputs": [],
   "source": []
  },
  {
   "cell_type": "code",
   "execution_count": null,
   "metadata": {},
   "outputs": [],
   "source": []
  },
  {
   "cell_type": "code",
   "execution_count": null,
   "metadata": {},
   "outputs": [],
   "source": []
  },
  {
   "cell_type": "code",
   "execution_count": null,
   "metadata": {},
   "outputs": [],
   "source": []
  }
 ],
 "metadata": {
  "colab": {
   "authorship_tag": "ABX9TyMOtB7OiTVLb+yu2KoVwjto",
   "include_colab_link": true,
   "provenance": []
  },
  "kernelspec": {
   "display_name": "Python 3 (ipykernel)",
   "language": "python",
   "name": "python3"
  },
  "language_info": {
   "codemirror_mode": {
    "name": "ipython",
    "version": 3
   },
   "file_extension": ".py",
   "mimetype": "text/x-python",
   "name": "python",
   "nbconvert_exporter": "python",
   "pygments_lexer": "ipython3",
   "version": "3.9.15"
  }
 },
 "nbformat": 4,
 "nbformat_minor": 1
}
