{
 "cells": [
  {
   "cell_type": "markdown",
   "metadata": {},
   "source": [
    "<a href=\"https://colab.research.google.com/github/YasuharuSuzuki/22-2nd_programing1/blob/main/13%E3%82%BF%E3%83%95%E3%82%9A%E3%83%AB/04_%E6%97%97%E6%8F%9A%E3%81%92%E3%82%B2%E3%83%BC%E3%83%A0.ipynb\" target=\"_parent\"><img src=\"https://colab.research.google.com/assets/colab-badge.svg\" alt=\"Open In Colab\"/></a>"
   ]
  },
  {
   "cell_type": "markdown",
   "metadata": {},
   "source": [
    "#### 練習プログラム5\n",
    "# 旗揚げゲーム (3点)"
   ]
  },
  {
   "cell_type": "markdown",
   "metadata": {},
   "source": [
    "- ゆるるくんは旗揚げゲームをすることにしました。  \n",
    "- 旗揚げゲームとは左右の手に赤い旗と白い旗をそれぞれ持ち、出される指示のとおりに旗を上げ下げするゲームです。  \n",
    "\n",
    "- 例えば以下のような指示と上げ下げの動作をします。\n",
    "  - 「赤上げて」で赤の旗を上げ、「白上げて」で白の旗を上げます。\n",
    "  - 「赤上げないで」で赤の旗を下げて、「白下げない」で白の旗を上げます。\n",
    "\n",
    "- 4回指示をすると一区切りとなり、次に4回指示を出すと終了となります。\n",
    "\n",
    "- 4回x2回指示が出された後に、上げている旗を空白区切りで出力してください。\n",
    "- ただし、赤白両方下げている時は\"どちらも上げない\"と出力してください。"
   ]
  },
  {
   "cell_type": "markdown",
   "metadata": {},
   "source": [
    "### 制約\n",
    "- 4回指示が2回繰り返されます。\n",
    "- 最初の4回分の指示は文字列で指定され、「、」（全角カンマ）で区切られています。\n",
    "- 1回の指示は以下の文字列で構成されています。  \n",
    "  -　1文字目は「赤」or「白」  \n",
    "  -　2文字目は「上」or「下」  \n",
    "  -　3文字目以降は「げて」or「げない」or「げないで」のいずれか  "
   ]
  },
  {
   "cell_type": "markdown",
   "metadata": {},
   "source": [
    "### 入力\n",
    "入力は以下の形式で標準入力から与えられます\n",
    "\n",
    "---\n",
    "$\n",
    "S_1  \\\\\n",
    "S_2  \n",
    "$\n",
    "\n",
    "---"
   ]
  },
  {
   "cell_type": "markdown",
   "metadata": {},
   "source": [
    "### 出力\n",
    "\n",
    "---\n",
    "\"赤\" or \"白\" or \"赤 白\" or \"どちらも上げない\"\n",
    "\n",
    "---\n",
    "上げている旗を出力して下さい。"
   ]
  },
  {
   "cell_type": "markdown",
   "metadata": {},
   "source": [
    "### 入力例 1\n",
    "\n",
    "| 入力例1 | 赤上げて、白上げて、赤下げないで、白下げて<br>白上げない、赤下げて、赤下げないで、白上げて |\n",
    "| :--- | :--- |\n",
    "| 出力例1 | 赤 白 |\n",
    "\n",
    "両方の旗を上げている状態のため、\"赤 白\"と出力します。"
   ]
  },
  {
   "cell_type": "markdown",
   "metadata": {},
   "source": [
    "### 入力例 2\n",
    "\n",
    "| 入力例2 | 赤下げて、白下げて、赤上げないで、白上げて<br>白下げない、赤下げて、赤上げないで、白下げて |\n",
    "| :--- | :--- |\n",
    "| 出力例2 | どちらも上げない |\n",
    "\n",
    "両方の旗を下げている状態のため、\"どちらも上げない\"と出力します。"
   ]
  },
  {
   "cell_type": "markdown",
   "metadata": {},
   "source": [
    "### 入力例 3\n",
    "\n",
    "| 入力例3 | 白下げない、赤下げて、赤上げないで、白下げて<br>赤下げて、赤上げない、白上げないで、白上げて |\n",
    "| :--- | :--- |\n",
    "| 出力例3 | 白 |\n",
    "\n",
    "白だけを上げている状態のため、\"白\"と出力します。"
   ]
  },
  {
   "cell_type": "code",
   "execution_count": 11,
   "metadata": {},
   "outputs": [
    {
     "name": "stdout",
     "output_type": "stream",
     "text": [
      "白下げない、赤下げて、赤上げないで、白下げて\n",
      "赤下げて、赤上げない、白上げないで、白上げて\n",
      "白\n"
     ]
    }
   ],
   "source": [
    "\n",
    "\n",
    "\n",
    "\n"
   ]
  },
  {
   "cell_type": "code",
   "execution_count": null,
   "metadata": {},
   "outputs": [],
   "source": []
  },
  {
   "cell_type": "code",
   "execution_count": null,
   "metadata": {},
   "outputs": [],
   "source": []
  },
  {
   "cell_type": "code",
   "execution_count": null,
   "metadata": {},
   "outputs": [],
   "source": []
  }
 ],
 "metadata": {
  "colab": {
   "authorship_tag": "ABX9TyMOtB7OiTVLb+yu2KoVwjto",
   "include_colab_link": true,
   "provenance": []
  },
  "kernelspec": {
   "display_name": "Python 3 (ipykernel)",
   "language": "python",
   "name": "python3"
  },
  "language_info": {
   "codemirror_mode": {
    "name": "ipython",
    "version": 3
   },
   "file_extension": ".py",
   "mimetype": "text/x-python",
   "name": "python",
   "nbconvert_exporter": "python",
   "pygments_lexer": "ipython3",
   "version": "3.9.15"
  }
 },
 "nbformat": 4,
 "nbformat_minor": 1
}
